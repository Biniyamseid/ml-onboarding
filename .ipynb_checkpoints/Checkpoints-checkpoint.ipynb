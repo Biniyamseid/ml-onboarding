{
 "cells": [
  {
   "cell_type": "markdown",
   "id": "70d68298",
   "metadata": {
    "id": "70d68298"
   },
   "source": [
    "# Checkpoints"
   ]
  },
  {
   "cell_type": "markdown",
   "id": "67d0260a",
   "metadata": {
    "id": "67d0260a"
   },
   "source": [
    "**CP1**:\n",
    "Given the list $[A, B, C]$, use the `itertools` module to generate all possible\n",
    "combinations of 2 elements.\n",
    "\n",
    "**Expected Output**:\n",
    "$$\n",
    " (A, B) \\\\\n",
    " (A, C) \\\\\n",
    " (B, C)\n",
    "$$"
   ]
  },
  {
   "cell_type": "code",
   "execution_count": null,
   "id": "9dd63d67",
   "metadata": {
    "id": "9dd63d67"
   },
   "outputs": [],
   "source": [
    "import itertools\n",
    "import glob\n",
    "\n",
    "lst = ['A', 'B', 'C']\n",
    "combinations = list(itertools.combinations(lst, 2))\n",
    "\n",
    "print(*combinations)"
   ]
  },
  {
   "cell_type": "markdown",
   "id": "31c15dce",
   "metadata": {
    "id": "31c15dce"
   },
   "source": [
    "**CP2**:\n",
    "Use the `itertools` module to create a sequence that cycles through\n",
    "['Python', 'is', 'fun'] infinitely. Print the first 10 elements of the sequence.\n",
    "\n",
    "**Expected Output**:\n",
    "$$\n",
    "Python \\\\\n",
    "is\\\\\n",
    "fun\\\\\n",
    "Python\\\\\n",
    "is\\\\\n",
    "fun\\\\\n",
    "Python\\\\\n",
    "is\\\\\n",
    "fun\\\\\n",
    "Python\n",
    "$$"
   ]
  },
  {
   "cell_type": "code",
   "execution_count": null,
   "id": "c75f246c",
   "metadata": {
    "id": "c75f246c"
   },
   "outputs": [],
   "source": [
    "sequence = itertools.cycle(['Python', 'is', 'fun'])\n",
    "\n",
    "for _ in range(10):\n",
    "    element = next(sequence)\n",
    "    print(element)"
   ]
  },
  {
   "cell_type": "markdown",
   "id": "cbef0f63",
   "metadata": {
    "id": "cbef0f63"
   },
   "source": [
    "**CP3**:\n",
    "Use the `glob` module to list all python (.py) files in your current working directory.\n",
    "\n",
    "\n"
   ]
  },
  {
   "cell_type": "code",
   "execution_count": 2,
   "id": "3e62d5b4",
   "metadata": {
    "id": "3e62d5b4"
   },
   "outputs": [],
   "source": [
    "import glob\n",
    "files_in_current_directory = glob.glob(\"*.py\")\n",
    "\n",
    "for file in files_in_current_directory:\n",
    "    print(file)\n",
    "    "
   ]
  },
  {
   "cell_type": "markdown",
   "id": "d266d698",
   "metadata": {
    "id": "d266d698"
   },
   "source": [
    "**CP4**: You are given the following HTML content below. Write a function that uses BeautifulSoup to parse the HTML and extract the text inside the   '$<p>$'   tag.\n"
   ]
  },
  {
   "cell_type": "code",
   "execution_count": 3,
   "id": "27f941c8",
   "metadata": {
    "id": "27f941c8"
   },
   "outputs": [
    {
     "name": "stdout",
     "output_type": "stream",
     "text": [
      "AI is transforming the world\n"
     ]
    }
   ],
   "source": [
    "#\n",
    "\n",
    "from bs4 import BeautifulSoup\n",
    "\n",
    "def extract_paragraph_text(html_content):\n",
    "    #parse the html content\n",
    "    soup = BeautifulSoup(html_content, 'html.parser')\n",
    "    paragraph = soup.find('p')\n",
    "    if paragraph:\n",
    "        text = paragraph.get_text(strip=True)\n",
    "        return text\n",
    "    else:\n",
    "        return None\n",
    "#html text\n",
    "html = \"<html><body><div class='main'><h1>Welcome to AI</h1><p>AI is transforming the world</p></div></body></html>\"\n",
    "\n",
    "# Extracting text from the <p> tag\n",
    "paragraph_text = extract_paragraph_text(html)\n",
    "print(paragraph_text)"
   ]
  },
  {
   "cell_type": "markdown",
   "id": "a1fce3ef",
   "metadata": {
    "id": "a1fce3ef"
   },
   "source": [
    "**CP5**: Write a function that uses the re module to replace all occurrences of the word \"AI\" with \"Artificial Intelligence\" in a given text."
   ]
  },
  {
   "cell_type": "code",
   "execution_count": 4,
   "id": "07178a2d",
   "metadata": {
    "id": "07178a2d"
   },
   "outputs": [
    {
     "name": "stdout",
     "output_type": "stream",
     "text": [
      "<html><body><div class='main'><h1>Welcome to Artificial Intelligence</h1><p>Artificial Intelligence is transforming the world</p></div></body></html>\n"
     ]
    }
   ],
   "source": [
    "import re\n",
    "\n",
    "def substitute(text, word, replacement):\n",
    "    return re.sub(r'\\b'+re.escape(word)+ r'\\b',replacement,text)\n",
    "\n",
    "\n",
    "text = \"<html><body><div class='main'><h1>Welcome to AI</h1><p>AI is transforming the world</p></div></body></html>\"\n",
    "\n",
    "# replace the text\n",
    "replaced_text = substitute(text, \"AI\", \"Artificial Intelligence\")\n",
    "print(replaced_text)"
   ]
  },
  {
   "cell_type": "markdown",
   "id": "4e471de6",
   "metadata": {
    "id": "4e471de6"
   },
   "source": [
    "**CP6**: Create a numpy array of 10 zeros."
   ]
  },
  {
   "cell_type": "code",
   "execution_count": 6,
   "id": "7f6e9acb",
   "metadata": {
    "id": "7f6e9acb"
   },
   "outputs": [
    {
     "name": "stdout",
     "output_type": "stream",
     "text": [
      "[0. 0. 0. 0. 0. 0. 0. 0. 0. 0.]\n"
     ]
    }
   ],
   "source": [
    "import numpy as np\n",
    "\n",
    "#array of 10 zeros\n",
    "array = np.zeros(10)\n",
    "print(array)"
   ]
  },
  {
   "cell_type": "markdown",
   "id": "5f52a63e",
   "metadata": {
    "id": "5f52a63e"
   },
   "source": [
    "**CP7** Create a numpy array of the integers from 10 to 49."
   ]
  },
  {
   "cell_type": "code",
   "execution_count": null,
   "id": "ddb01e9a",
   "metadata": {
    "id": "ddb01e9a"
   },
   "outputs": [],
   "source": [
    "#your code here"
   ]
  },
  {
   "cell_type": "markdown",
   "id": "79e4d614",
   "metadata": {
    "id": "79e4d614"
   },
   "source": [
    "**CP8**: Create a 3x3 numpy matrix, filled with values ranging from 0 to 8."
   ]
  },
  {
   "cell_type": "code",
   "execution_count": null,
   "id": "d3eddea4",
   "metadata": {
    "id": "d3eddea4"
   },
   "outputs": [],
   "source": [
    "#your code here"
   ]
  },
  {
   "cell_type": "markdown",
   "id": "1b09270f",
   "metadata": {
    "id": "1b09270f"
   },
   "source": [
    "**CP9**: Explain why machine learning models require large amounts of data? What does it mean for an amount of data to be **large**?"
   ]
  },
  {
   "cell_type": "code",
   "execution_count": null,
   "id": "a57e9726",
   "metadata": {
    "id": "a57e9726"
   },
   "outputs": [],
   "source": []
  },
  {
   "cell_type": "markdown",
   "id": "1a357bde",
   "metadata": {
    "id": "1a357bde"
   },
   "source": [
    "**CP10**: Explain 2 ways AI can be used in an adverserial way, and what can be done to prevent it."
   ]
  },
  {
   "cell_type": "code",
   "execution_count": null,
   "id": "a9db70af",
   "metadata": {
    "id": "a9db70af"
   },
   "outputs": [],
   "source": []
  }
 ],
 "metadata": {
  "colab": {
   "provenance": []
  },
  "kernelspec": {
   "display_name": "Python 3 (ipykernel)",
   "language": "python",
   "name": "python3"
  },
  "language_info": {
   "codemirror_mode": {
    "name": "ipython",
    "version": 3
   },
   "file_extension": ".py",
   "mimetype": "text/x-python",
   "name": "python",
   "nbconvert_exporter": "python",
   "pygments_lexer": "ipython3",
   "version": "3.11.3"
  },
  "varInspector": {
   "cols": {
    "lenName": 16,
    "lenType": 16,
    "lenVar": 40
   },
   "kernels_config": {
    "python": {
     "delete_cmd_postfix": "",
     "delete_cmd_prefix": "del ",
     "library": "var_list.py",
     "varRefreshCmd": "print(var_dic_list())"
    },
    "r": {
     "delete_cmd_postfix": ") ",
     "delete_cmd_prefix": "rm(",
     "library": "var_list.r",
     "varRefreshCmd": "cat(var_dic_list()) "
    }
   },
   "types_to_exclude": [
    "module",
    "function",
    "builtin_function_or_method",
    "instance",
    "_Feature"
   ],
   "window_display": false
  }
 },
 "nbformat": 4,
 "nbformat_minor": 5
}
