{
 "cells": [
  {
   "cell_type": "markdown",
   "id": "d492cc90",
   "metadata": {},
   "source": [
    "# numpy\n"
   ]
  },
  {
   "cell_type": "code",
   "execution_count": 2,
   "id": "87cc5344",
   "metadata": {},
   "outputs": [
    {
     "data": {
      "text/plain": [
       "'1.24.3'"
      ]
     },
     "execution_count": 2,
     "metadata": {},
     "output_type": "execute_result"
    }
   ],
   "source": [
    "import numpy as np\n",
    "\n",
    "#check the version\n",
    "np.__version__\n"
   ]
  },
  {
   "cell_type": "code",
   "execution_count": 12,
   "id": "c766eb5a",
   "metadata": {},
   "outputs": [
    {
     "name": "stdout",
     "output_type": "stream",
     "text": [
      "[1 2 3 4 5]\n",
      "(5,)\n"
     ]
    },
    {
     "data": {
      "text/plain": [
       "1"
      ]
     },
     "execution_count": 12,
     "metadata": {},
     "output_type": "execute_result"
    }
   ],
   "source": [
    "array = np.array([1,2,3,4,5])\n",
    "print(array)\n",
    "#check the shape\n",
    "print(array.shape)\n",
    "\n",
    "#check the dimensin\n",
    "array.ndim"
   ]
  },
  {
   "cell_type": "code",
   "execution_count": 16,
   "id": "32b3807d",
   "metadata": {},
   "outputs": [
    {
     "data": {
      "text/plain": [
       "(array(67), numpy.ndarray, (), 0)"
      ]
     },
     "execution_count": 16,
     "metadata": {},
     "output_type": "execute_result"
    }
   ],
   "source": [
    "#0 dimensional array\n",
    "array1 = np.array(67)\n",
    "array1,type(array1), array1.shape ,array1.ndim"
   ]
  },
  {
   "cell_type": "code",
   "execution_count": 21,
   "id": "487ff9ed",
   "metadata": {},
   "outputs": [
    {
     "name": "stdout",
     "output_type": "stream",
     "text": [
      "[[1 2 3]\n",
      " [1 2 3]] <class 'numpy.ndarray'> (2, 3) 2\n"
     ]
    }
   ],
   "source": [
    "#2 dimensional array\n",
    "array2 = np.array([[1,2,3],[1,2,3]])\n",
    "print(array2,type(array2),array2.shape,array2.ndim)"
   ]
  },
  {
   "cell_type": "code",
   "execution_count": 22,
   "id": "38409a5c",
   "metadata": {},
   "outputs": [],
   "source": [
    "#3d vector\n"
   ]
  },
  {
   "cell_type": "code",
   "execution_count": null,
   "id": "b55b3008",
   "metadata": {},
   "outputs": [],
   "source": []
  }
 ],
 "metadata": {
  "kernelspec": {
   "display_name": "Python 3 (ipykernel)",
   "language": "python",
   "name": "python3"
  },
  "language_info": {
   "codemirror_mode": {
    "name": "ipython",
    "version": 3
   },
   "file_extension": ".py",
   "mimetype": "text/x-python",
   "name": "python",
   "nbconvert_exporter": "python",
   "pygments_lexer": "ipython3",
   "version": "3.11.3"
  }
 },
 "nbformat": 4,
 "nbformat_minor": 5
}
