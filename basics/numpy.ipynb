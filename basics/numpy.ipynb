{
 "cells": [
  {
   "cell_type": "markdown",
   "id": "622ae860",
   "metadata": {},
   "source": [
    "# numpy\n"
   ]
  },
  {
   "cell_type": "code",
   "execution_count": 34,
   "id": "f531c97f",
   "metadata": {},
   "outputs": [
    {
     "data": {
      "text/plain": [
       "'1.24.3'"
      ]
     },
     "execution_count": 34,
     "metadata": {},
     "output_type": "execute_result"
    }
   ],
   "source": [
    "import numpy as np\n",
    "\n",
    "#check the version\n",
    "np.__version__\n"
   ]
  },
  {
   "cell_type": "code",
   "execution_count": 35,
   "id": "caa2ad1e",
   "metadata": {},
   "outputs": [
    {
     "name": "stdout",
     "output_type": "stream",
     "text": [
      "[1 2 3 4 5]\n",
      "(5,)\n"
     ]
    },
    {
     "data": {
      "text/plain": [
       "1"
      ]
     },
     "execution_count": 35,
     "metadata": {},
     "output_type": "execute_result"
    }
   ],
   "source": [
    "array = np.array([1,2,3,4,5])\n",
    "print(array)\n",
    "#check the shape\n",
    "print(array.shape)\n",
    "\n",
    "#check the dimensin\n",
    "array.ndim"
   ]
  },
  {
   "cell_type": "code",
   "execution_count": 36,
   "id": "3304437e",
   "metadata": {},
   "outputs": [
    {
     "data": {
      "text/plain": [
       "(array(67), numpy.ndarray, (), 0)"
      ]
     },
     "execution_count": 36,
     "metadata": {},
     "output_type": "execute_result"
    }
   ],
   "source": [
    "#0 dimensional array\n",
    "array1 = np.array(67)\n",
    "array1,type(array1), array1.shape ,array1.ndim"
   ]
  },
  {
   "cell_type": "code",
   "execution_count": 37,
   "id": "dc0a39e7",
   "metadata": {},
   "outputs": [
    {
     "name": "stdout",
     "output_type": "stream",
     "text": [
      "[[1 2 3]\n",
      " [1 2 3]] <class 'numpy.ndarray'> (2, 3) 2\n"
     ]
    }
   ],
   "source": [
    "#2 dimensional array\n",
    "array2 = np.array([[1,2,3],[1,2,3]])\n",
    "print(array2,type(array2),array2.shape,array2.ndim)"
   ]
  },
  {
   "cell_type": "code",
   "execution_count": 38,
   "id": "546de897",
   "metadata": {},
   "outputs": [
    {
     "data": {
      "text/plain": [
       "((2, 2, 3), 3)"
      ]
     },
     "execution_count": 38,
     "metadata": {},
     "output_type": "execute_result"
    }
   ],
   "source": [
    "#3d vector\n",
    "array3 = np.array([[[1,2,3],[2,4,6]],[[1,7,4],[6,7,8]]])\n",
    "array3.shape,array3.ndim"
   ]
  },
  {
   "cell_type": "markdown",
   "id": "ff96a70c",
   "metadata": {},
   "source": [
    "# Array indexing and slicing"
   ]
  },
  {
   "cell_type": "code",
   "execution_count": 39,
   "id": "cec5414a",
   "metadata": {},
   "outputs": [
    {
     "data": {
      "text/plain": [
       "5"
      ]
     },
     "execution_count": 39,
     "metadata": {},
     "output_type": "execute_result"
    }
   ],
   "source": [
    "#index one dimensional array\n",
    "array[-1]\n"
   ]
  },
  {
   "cell_type": "code",
   "execution_count": 40,
   "id": "69acd98b",
   "metadata": {},
   "outputs": [
    {
     "data": {
      "text/plain": [
       "array([[1, 2, 3],\n",
       "       [1, 2, 3]])"
      ]
     },
     "execution_count": 40,
     "metadata": {},
     "output_type": "execute_result"
    }
   ],
   "source": [
    "array2"
   ]
  },
  {
   "cell_type": "code",
   "execution_count": 41,
   "id": "ec627470",
   "metadata": {},
   "outputs": [
    {
     "name": "stdout",
     "output_type": "stream",
     "text": [
      "3\n"
     ]
    },
    {
     "data": {
      "text/plain": [
       "3"
      ]
     },
     "execution_count": 41,
     "metadata": {},
     "output_type": "execute_result"
    }
   ],
   "source": [
    "#we can index a two dimensiona array in two ways\n",
    "print(array2[0][2])\n",
    "array2[0,2]"
   ]
  },
  {
   "cell_type": "code",
   "execution_count": 42,
   "id": "6f21736c",
   "metadata": {},
   "outputs": [
    {
     "data": {
      "text/plain": [
       "array([[[1, 2, 3],\n",
       "        [2, 4, 6]],\n",
       "\n",
       "       [[1, 7, 4],\n",
       "        [6, 7, 8]]])"
      ]
     },
     "execution_count": 42,
     "metadata": {},
     "output_type": "execute_result"
    }
   ],
   "source": [
    "array3"
   ]
  },
  {
   "cell_type": "code",
   "execution_count": 43,
   "id": "e928ad89",
   "metadata": {},
   "outputs": [
    {
     "data": {
      "text/plain": [
       "array([[1, 2, 3],\n",
       "       [2, 4, 6]])"
      ]
     },
     "execution_count": 43,
     "metadata": {},
     "output_type": "execute_result"
    }
   ],
   "source": [
    "array3[0]"
   ]
  },
  {
   "cell_type": "code",
   "execution_count": 44,
   "id": "14847ff0",
   "metadata": {},
   "outputs": [
    {
     "data": {
      "text/plain": [
       "array([[7, 4],\n",
       "       [7, 8]])"
      ]
     },
     "execution_count": 44,
     "metadata": {},
     "output_type": "execute_result"
    }
   ],
   "source": [
    "#from all columns of the 1 index slice 1 and 2 columns.\n",
    "array3[1,:,1:3]"
   ]
  },
  {
   "cell_type": "markdown",
   "id": "77c20946",
   "metadata": {},
   "source": [
    "# data types\n",
    "\n",
    "i - integer\n",
    "b - boolean\n",
    "u - unsigned integer\n",
    "f - float\n",
    "c - complex float\n",
    "m - timedelta\n",
    "M - datetime\n",
    "O - object\n",
    "S - string\n",
    "U - unicode string\n",
    "V - fixed chunk of memory for other type (void)"
   ]
  },
  {
   "cell_type": "code",
   "execution_count": 45,
   "id": "0dc3f9cf",
   "metadata": {},
   "outputs": [
    {
     "data": {
      "text/plain": [
       "dtype('int32')"
      ]
     },
     "execution_count": 45,
     "metadata": {},
     "output_type": "execute_result"
    }
   ],
   "source": [
    "arrayd = np.array([1,2,3,4,5])\n",
    "arrayd.dtype"
   ]
  },
  {
   "cell_type": "code",
   "execution_count": 47,
   "id": "92ed7c66",
   "metadata": {},
   "outputs": [
    {
     "data": {
      "text/plain": [
       "dtype('float64')"
      ]
     },
     "execution_count": 47,
     "metadata": {},
     "output_type": "execute_result"
    }
   ],
   "source": [
    "arrayd1 = np.array([1,2,3,4,5.0])\n",
    "arrayd1.dtype"
   ]
  },
  {
   "cell_type": "code",
   "execution_count": 50,
   "id": "85b9def0",
   "metadata": {},
   "outputs": [
    {
     "data": {
      "text/plain": [
       "array(['mango', 'Avocado'], dtype='<U7')"
      ]
     },
     "execution_count": 50,
     "metadata": {},
     "output_type": "execute_result"
    }
   ],
   "source": [
    "arrayd2 = np.array([\"mango\",\"Avocado\"])\n",
    "arrayd2"
   ]
  },
  {
   "cell_type": "code",
   "execution_count": null,
   "id": "717b8025",
   "metadata": {},
   "outputs": [],
   "source": [
    "#on the above dtype='<U7' means U = unicode string and 7 is the maimum length of the strings."
   ]
  }
 ],
 "metadata": {
  "kernelspec": {
   "display_name": "Python 3 (ipykernel)",
   "language": "python",
   "name": "python3"
  },
  "language_info": {
   "codemirror_mode": {
    "name": "ipython",
    "version": 3
   },
   "file_extension": ".py",
   "mimetype": "text/x-python",
   "name": "python",
   "nbconvert_exporter": "python",
   "pygments_lexer": "ipython3",
   "version": "3.11.3"
  }
 },
 "nbformat": 4,
 "nbformat_minor": 5
}
