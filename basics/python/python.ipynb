{
 "cells": [
  {
   "cell_type": "markdown",
   "id": "506b2f68",
   "metadata": {},
   "source": [
    "# date and time"
   ]
  },
  {
   "cell_type": "code",
   "execution_count": 2,
   "id": "04df8d45",
   "metadata": {},
   "outputs": [],
   "source": [
    "import datetime\n",
    "import time\n"
   ]
  },
  {
   "cell_type": "code",
   "execution_count": 3,
   "id": "25e1f69e",
   "metadata": {},
   "outputs": [
    {
     "data": {
      "text/plain": [
       "datetime.datetime(2023, 7, 6, 22, 7, 31, 823704)"
      ]
     },
     "execution_count": 3,
     "metadata": {},
     "output_type": "execute_result"
    }
   ],
   "source": [
    "datetime.datetime.now()"
   ]
  },
  {
   "cell_type": "code",
   "execution_count": 6,
   "id": "1df42769",
   "metadata": {},
   "outputs": [
    {
     "data": {
      "text/plain": [
       "datetime.date(2023, 7, 6)"
      ]
     },
     "execution_count": 6,
     "metadata": {},
     "output_type": "execute_result"
    }
   ],
   "source": [
    "datetime.date.today()\n"
   ]
  },
  {
   "cell_type": "code",
   "execution_count": 7,
   "id": "e91392a0",
   "metadata": {},
   "outputs": [
    {
     "data": {
      "text/plain": [
       "datetime.date(2023, 6, 6)"
      ]
     },
     "execution_count": 7,
     "metadata": {},
     "output_type": "execute_result"
    }
   ],
   "source": [
    "datetime.date(2023,6,6)"
   ]
  },
  {
   "cell_type": "code",
   "execution_count": 19,
   "id": "9fbb72ba",
   "metadata": {},
   "outputs": [
    {
     "data": {
      "text/plain": [
       "datetime.datetime(2023, 7, 6, 22, 15, 41, 435728)"
      ]
     },
     "execution_count": 19,
     "metadata": {},
     "output_type": "execute_result"
    }
   ],
   "source": [
    "from datetime import datetime,date,time\n",
    "from datetime import timedelta\n",
    "datetime.today()\n",
    "\n"
   ]
  },
  {
   "cell_type": "code",
   "execution_count": 52,
   "id": "7d1b2684",
   "metadata": {},
   "outputs": [],
   "source": [
    "date1 = date(2023,7,5)\n",
    "date2 = date(2023,7,7)"
   ]
  },
  {
   "cell_type": "code",
   "execution_count": 53,
   "id": "3c0bac01",
   "metadata": {},
   "outputs": [
    {
     "data": {
      "text/plain": [
       "datetime.timedelta(days=2)"
      ]
     },
     "execution_count": 53,
     "metadata": {},
     "output_type": "execute_result"
    }
   ],
   "source": [
    "tdelta = date2-date1\n",
    "tdelta\n"
   ]
  },
  {
   "cell_type": "code",
   "execution_count": 54,
   "id": "6ce22200",
   "metadata": {},
   "outputs": [
    {
     "data": {
      "text/plain": [
       "2"
      ]
     },
     "execution_count": 54,
     "metadata": {},
     "output_type": "execute_result"
    }
   ],
   "source": [
    "#get number of days\n",
    "tdelta.days"
   ]
  },
  {
   "cell_type": "code",
   "execution_count": 55,
   "id": "07cc524d",
   "metadata": {},
   "outputs": [
    {
     "data": {
      "text/plain": [
       "172800.0"
      ]
     },
     "execution_count": 55,
     "metadata": {},
     "output_type": "execute_result"
    }
   ],
   "source": [
    "#get number of seconds in the diffenrence of date1 and date2\n",
    "tdelta.total_seconds()"
   ]
  },
  {
   "cell_type": "code",
   "execution_count": 56,
   "id": "155c1bdd",
   "metadata": {},
   "outputs": [],
   "source": [
    "#transform string object into python object"
   ]
  },
  {
   "cell_type": "code",
   "execution_count": 68,
   "id": "8f7bbee0",
   "metadata": {},
   "outputs": [
    {
     "name": "stdout",
     "output_type": "stream",
     "text": [
      "2023-07-06 00:00:00\n",
      "2023-12-10 00:00:00\n"
     ]
    }
   ],
   "source": [
    "data = '10-12-2023'\n",
    "date_string = \"2023-07-06\"\n",
    "\n",
    "date_object = datetime.strptime(date_string, \"%Y-%m-%d\")\n",
    "\n",
    "print(date_object)\n",
    "\n",
    "date_object = datetime.strptime(data,\"%d-%m-%Y\")\n",
    "print(date_object)"
   ]
  },
  {
   "cell_type": "markdown",
   "id": "7cb502be",
   "metadata": {},
   "source": [
    "# file handling\n",
    "\"r\" read mode\n",
    "\"a\" append\n",
    "\"w\" write\n",
    "\"x\" create"
   ]
  },
  {
   "cell_type": "code",
   "execution_count": 93,
   "id": "90b91c47",
   "metadata": {},
   "outputs": [],
   "source": [
    "#\"t\" text mode\n",
    "# \"b\" create binary\n",
    "\n",
    "f = open(\"file.txt\")\n",
    "\n"
   ]
  },
  {
   "cell_type": "code",
   "execution_count": 75,
   "id": "1f6d21eb",
   "metadata": {},
   "outputs": [],
   "source": [
    "#read the content of the file"
   ]
  },
  {
   "cell_type": "code",
   "execution_count": 88,
   "id": "4b2d0986",
   "metadata": {},
   "outputs": [
    {
     "data": {
      "text/plain": [
       "'hello this is a text file\\nthis is the second file\\nthis is the third file\\nthis is the forth file'"
      ]
     },
     "execution_count": 88,
     "metadata": {},
     "output_type": "execute_result"
    }
   ],
   "source": [
    "# f.read()"
   ]
  },
  {
   "cell_type": "code",
   "execution_count": 94,
   "id": "cc387768",
   "metadata": {},
   "outputs": [
    {
     "data": {
      "text/plain": [
       "'hello this is a text file\\n'"
      ]
     },
     "execution_count": 94,
     "metadata": {},
     "output_type": "execute_result"
    }
   ],
   "source": [
    "#read a single line\n",
    "f.readline()"
   ]
  },
  {
   "cell_type": "code",
   "execution_count": 95,
   "id": "4bed9bfe",
   "metadata": {},
   "outputs": [
    {
     "name": "stdout",
     "output_type": "stream",
     "text": [
      "['this is the second file', 'this is the third file', 'this is the forth file']\n"
     ]
    }
   ],
   "source": [
    "x = f.readlines()\n",
    "data = [x.strip() for x in x]\n",
    "print(data)"
   ]
  },
  {
   "cell_type": "code",
   "execution_count": 96,
   "id": "e067b557",
   "metadata": {},
   "outputs": [],
   "source": [
    "f.close()\n",
    "#close file"
   ]
  },
  {
   "cell_type": "code",
   "execution_count": 103,
   "id": "736fbd29",
   "metadata": {},
   "outputs": [],
   "source": [
    "#create a new file\n",
    "f = open('newfile.txt',\"w\")\n",
    "f.write(\"this is line one\\nhello how are you doing\")\n",
    "f.write('\\n')\n",
    "f.write('this is a newly created file')\n",
    "f.close()"
   ]
  },
  {
   "cell_type": "code",
   "execution_count": 107,
   "id": "a93a613d",
   "metadata": {},
   "outputs": [],
   "source": [
    "#file in the append mode\n",
    "f = open('newfile.txt','a')\n",
    "f.write('this is line 1')\n",
    "f.write('\\n')\n",
    "f.write('this is line 2')\n",
    "f.write('\\n')\n",
    "f.close()"
   ]
  },
  {
   "cell_type": "code",
   "execution_count": null,
   "id": "a156cd82",
   "metadata": {},
   "outputs": [],
   "source": []
  },
  {
   "cell_type": "code",
   "execution_count": null,
   "id": "e1c91cf8",
   "metadata": {},
   "outputs": [],
   "source": []
  },
  {
   "cell_type": "code",
   "execution_count": null,
   "id": "bd8e3083",
   "metadata": {},
   "outputs": [],
   "source": []
  }
 ],
 "metadata": {
  "kernelspec": {
   "display_name": "Python 3 (ipykernel)",
   "language": "python",
   "name": "python3"
  },
  "language_info": {
   "codemirror_mode": {
    "name": "ipython",
    "version": 3
   },
   "file_extension": ".py",
   "mimetype": "text/x-python",
   "name": "python",
   "nbconvert_exporter": "python",
   "pygments_lexer": "ipython3",
   "version": "3.11.3"
  }
 },
 "nbformat": 4,
 "nbformat_minor": 5
}
