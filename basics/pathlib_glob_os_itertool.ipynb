{
 "cells": [
  {
   "cell_type": "markdown",
   "id": "210f3b3f",
   "metadata": {},
   "source": [
    "# pathlib"
   ]
  },
  {
   "cell_type": "code",
   "execution_count": 28,
   "id": "1fddfbee",
   "metadata": {},
   "outputs": [],
   "source": [
    "from pathlib import Path\n"
   ]
  },
  {
   "cell_type": "code",
   "execution_count": 42,
   "id": "2459bb95",
   "metadata": {
    "scrolled": true
   },
   "outputs": [],
   "source": [
    "#get home directory\n",
    "home_dir = Path.home()\n"
   ]
  },
  {
   "cell_type": "markdown",
   "id": "d01fa51b",
   "metadata": {},
   "source": [
    "get the path to the current working directory"
   ]
  },
  {
   "cell_type": "code",
   "execution_count": 43,
   "id": "a908851c",
   "metadata": {},
   "outputs": [],
   "source": [
    "cwd = Path.cwd()"
   ]
  },
  {
   "cell_type": "markdown",
   "id": "e993b039",
   "metadata": {},
   "source": [
    "get the path of the current python file(does not work in jupyeter Notebooks)\n"
   ]
  },
  {
   "cell_type": "code",
   "execution_count": 11,
   "id": "8ad4e3ad",
   "metadata": {},
   "outputs": [],
   "source": [
    "# curr_file = Path(_file_)\n",
    "# current_file\n"
   ]
  },
  {
   "cell_type": "markdown",
   "id": "b8437758",
   "metadata": {},
   "source": [
    "# get the first parent folder path"
   ]
  },
  {
   "cell_type": "code",
   "execution_count": 44,
   "id": "ca07bdea",
   "metadata": {},
   "outputs": [],
   "source": [
    "one_above = Path.cwd().parent"
   ]
  },
  {
   "cell_type": "code",
   "execution_count": 20,
   "id": "41b2c627",
   "metadata": {},
   "outputs": [],
   "source": [
    "#get the Nth parent folder path\n",
    "\n",
    "# mul_above = Path.cwd().parent[0]\n",
    "#but TypeError: 'WindowsPath' object is not subscriptable"
   ]
  },
  {
   "cell_type": "code",
   "execution_count": 45,
   "id": "84d3ae48",
   "metadata": {},
   "outputs": [],
   "source": [
    "#join paths\n",
    "joined_path = cwd/'output'"
   ]
  },
  {
   "cell_type": "code",
   "execution_count": 23,
   "id": "bd78040a",
   "metadata": {},
   "outputs": [],
   "source": [
    "#create a folder if it does not exist\n",
    "joined_path.mkdir(exist_ok=True)\n",
    "#exist_ok : to ignore 'FileExistsError' if the target directory already exist\n"
   ]
  },
  {
   "cell_type": "code",
   "execution_count": 25,
   "id": "bd27b32b",
   "metadata": {},
   "outputs": [
    {
     "data": {
      "text/plain": [
       "True"
      ]
     },
     "execution_count": 25,
     "metadata": {},
     "output_type": "execute_result"
    }
   ],
   "source": [
    "#check if the path is a folder\n",
    "joined_path.is_dir()"
   ]
  },
  {
   "cell_type": "code",
   "execution_count": 26,
   "id": "efd43e98",
   "metadata": {},
   "outputs": [
    {
     "data": {
      "text/plain": [
       "False"
      ]
     },
     "execution_count": 26,
     "metadata": {},
     "output_type": "execute_result"
    }
   ],
   "source": [
    "#check if the path is  a file\n",
    "joined_path.is_file()"
   ]
  },
  {
   "cell_type": "code",
   "execution_count": 27,
   "id": "69140cfe",
   "metadata": {},
   "outputs": [
    {
     "data": {
      "text/plain": [
       "False"
      ]
     },
     "execution_count": 27,
     "metadata": {},
     "output_type": "execute_result"
    }
   ],
   "source": [
    "example_file = cwd /'somefile.txt'\n",
    "example_file.is_file()"
   ]
  },
  {
   "cell_type": "code",
   "execution_count": 29,
   "id": "fb788fcb",
   "metadata": {},
   "outputs": [
    {
     "data": {
      "text/plain": [
       "'somefile.txt'"
      ]
     },
     "execution_count": 29,
     "metadata": {},
     "output_type": "execute_result"
    }
   ],
   "source": [
    "#get the file name\n",
    "file_name = example_file.name\n",
    "file_name"
   ]
  },
  {
   "cell_type": "code",
   "execution_count": 34,
   "id": "fb30ff9e",
   "metadata": {},
   "outputs": [
    {
     "data": {
      "text/plain": [
       "'somefile'"
      ]
     },
     "execution_count": 34,
     "metadata": {},
     "output_type": "execute_result"
    }
   ],
   "source": [
    "# get the file with out extension\n",
    "file_name = example_file.stem\n",
    "file_name"
   ]
  },
  {
   "cell_type": "code",
   "execution_count": 35,
   "id": "2364f04c",
   "metadata": {},
   "outputs": [
    {
     "data": {
      "text/plain": [
       "'.txt'"
      ]
     },
     "execution_count": 35,
     "metadata": {},
     "output_type": "execute_result"
    }
   ],
   "source": [
    "#get the file extension\n",
    "file_suffix = example_file.suffix\n",
    "file_suffix"
   ]
  },
  {
   "cell_type": "code",
   "execution_count": 47,
   "id": "fcc87a5c",
   "metadata": {},
   "outputs": [],
   "source": [
    "# iterate over the files in a directory\n",
    "target_dir = cwd\n",
    "for file in target_dir.iterdir():\n",
    "      pass\n",
    "#     print(file)"
   ]
  },
  {
   "cell_type": "code",
   "execution_count": 49,
   "id": "3b42f25d",
   "metadata": {},
   "outputs": [],
   "source": [
    "#iterate overthe files in a directory combined with suffix\n",
    "for file in target_dir.iterdir():\n",
    "    if file.suffix == '.ipynb':\n",
    "        pass\n",
    "#         print(file)"
   ]
  },
  {
   "cell_type": "code",
   "execution_count": 50,
   "id": "41d6de48",
   "metadata": {},
   "outputs": [],
   "source": [
    "#iterate over files in a directory including sub folders\n",
    "for file in target_dir.rglob(\"*\"):\n",
    "    pass\n",
    "#     print(file)\n",
    "    "
   ]
  },
  {
   "cell_type": "markdown",
   "id": "6d65fc55",
   "metadata": {},
   "source": [
    "# glob"
   ]
  },
  {
   "cell_type": "code",
   "execution_count": 51,
   "id": "8b3500fd",
   "metadata": {},
   "outputs": [],
   "source": [
    "#we can use os lib to list directories but we cannot use wild card in os so we have to use glob lib inorder to use wild card.\n",
    "import os\n",
    "# os.listdir('/users')"
   ]
  },
  {
   "cell_type": "markdown",
   "id": "0cc6c186",
   "metadata": {},
   "source": [
    "\n",
    "The glob module in Python is used to find files that match a specific pattern. It is a built-in module, so you do not need to install it separately.\n",
    "\n",
    "The glob module uses wildcard characters to match files. The most common wildcard characters are:\n",
    "\n",
    "* - Matches zero or more characters.\n",
    "? - Matches exactly one character.\n",
    "[] - Matches a single character from the specified range. For example, \n",
    "[0-9] matches any single digit character."
   ]
  },
  {
   "cell_type": "code",
   "execution_count": 52,
   "id": "9f256e74",
   "metadata": {},
   "outputs": [],
   "source": [
    "#and here we are not using regular expression, we are using filename globbing\n",
    "import glob\n",
    "# glob.glob('/users/*')"
   ]
  },
  {
   "cell_type": "code",
   "execution_count": 47,
   "id": "c084bea7",
   "metadata": {},
   "outputs": [
    {
     "data": {
      "text/plain": [
       "['/users\\\\postgres', '/users\\\\Public']"
      ]
     },
     "execution_count": 47,
     "metadata": {},
     "output_type": "execute_result"
    }
   ],
   "source": [
    "# glob.glob('/users/p?*')"
   ]
  },
  {
   "cell_type": "code",
   "execution_count": 53,
   "id": "db472f50",
   "metadata": {},
   "outputs": [
    {
     "data": {
      "text/plain": [
       "['/users\\\\All Users',\n",
       " '/users\\\\biniy',\n",
       " '/users\\\\Default',\n",
       " '/users\\\\Default User',\n",
       " '/users\\\\desktop.ini']"
      ]
     },
     "execution_count": 53,
     "metadata": {},
     "output_type": "execute_result"
    }
   ],
   "source": [
    "# glob.glob('/users/[abd]*')"
   ]
  },
  {
   "cell_type": "code",
   "execution_count": 57,
   "id": "b5206e95",
   "metadata": {},
   "outputs": [
    {
     "data": {
      "text/plain": [
       "['/users/biniy/desktop\\\\bini tamplate.py.txt']"
      ]
     },
     "execution_count": 57,
     "metadata": {},
     "output_type": "execute_result"
    }
   ],
   "source": [
    "# glob.glob('/users/biniy/desktop/*.txt')"
   ]
  },
  {
   "cell_type": "code",
   "execution_count": 60,
   "id": "c2f6672c",
   "metadata": {},
   "outputs": [
    {
     "data": {
      "text/plain": [
       "<generator object _iglob at 0x000001FBDFD26D40>"
      ]
     },
     "execution_count": 60,
     "metadata": {},
     "output_type": "execute_result"
    }
   ],
   "source": [
    "#to get the generator , use glob.iglob\n",
    "glob.iglob('/users/biniy/desktop/*')\n"
   ]
  },
  {
   "cell_type": "code",
   "execution_count": 10,
   "id": "b42f6df8",
   "metadata": {},
   "outputs": [
    {
     "name": "stdout",
     "output_type": "stream",
     "text": [
      "/users/biniy/desktop/AI\n"
     ]
    }
   ],
   "source": [
    "#print file from a generator\n",
    "for one_filename in glob.iglob('/users/biniy/desktop/AI'):\n",
    "#     print(one_filename)"
   ]
  },
  {
   "cell_type": "code",
   "execution_count": 9,
   "id": "96cb70ee",
   "metadata": {},
   "outputs": [
    {
     "name": "stdout",
     "output_type": "stream",
     "text": [
      "['dummy\\\\apple.js']\n"
     ]
    }
   ],
   "source": [
    "import glob\n",
    "print(glob.glob(\"*/?????.js\"))"
   ]
  },
  {
   "cell_type": "code",
   "execution_count": 25,
   "id": "16a2a668",
   "metadata": {},
   "outputs": [
    {
     "name": "stdout",
     "output_type": "stream",
     "text": [
      "['dummy\\\\banana.js', 'python\\\\newfile.txt', 'python\\\\python.ipynb']\n"
     ]
    }
   ],
   "source": [
    "#square braket allow us to insert specified characters.\n",
    "print(glob.glob('*/[!asf]*'))"
   ]
  },
  {
   "cell_type": "code",
   "execution_count": 19,
   "id": "74ba1a7f",
   "metadata": {},
   "outputs": [
    {
     "name": "stdout",
     "output_type": "stream",
     "text": [
      "['dummy\\\\banana.js', 'python\\\\file.txt', 'python\\\\newfile.txt', 'python\\\\python.ipynb']\n"
     ]
    }
   ],
   "source": [
    "#[!] doesn't match any thing in the square bracket\n",
    "print(glob.glob('*/[!ad]*'))"
   ]
  },
  {
   "cell_type": "code",
   "execution_count": 27,
   "id": "4cb9e128",
   "metadata": {},
   "outputs": [
    {
     "name": "stdout",
     "output_type": "stream",
     "text": [
      "['dummy', 'numpy.ipynb', 'output', 'pathlib_glob_os_itertool.ipynb', 'python']\n"
     ]
    }
   ],
   "source": [
    "print(glob.glob('*'))"
   ]
  },
  {
   "cell_type": "code",
   "execution_count": 29,
   "id": "574f4b97",
   "metadata": {},
   "outputs": [
    {
     "name": "stdout",
     "output_type": "stream",
     "text": [
      "C:\\Users\\biniy\n"
     ]
    }
   ],
   "source": [
    "print(Path.home())"
   ]
  },
  {
   "cell_type": "code",
   "execution_count": 41,
   "id": "3128705e",
   "metadata": {},
   "outputs": [
    {
     "name": "stdout",
     "output_type": "stream",
     "text": [
      "[]\n"
     ]
    }
   ],
   "source": [
    "print(glob.glob('**/*.py',root_dir='\\Users\\biniy',recursive= True,include_hidden=True))"
   ]
  },
  {
   "cell_type": "code",
   "execution_count": null,
   "id": "fe03e9a3",
   "metadata": {},
   "outputs": [],
   "source": []
  }
 ],
 "metadata": {
  "kernelspec": {
   "display_name": "Python 3 (ipykernel)",
   "language": "python",
   "name": "python3"
  },
  "language_info": {
   "codemirror_mode": {
    "name": "ipython",
    "version": 3
   },
   "file_extension": ".py",
   "mimetype": "text/x-python",
   "name": "python",
   "nbconvert_exporter": "python",
   "pygments_lexer": "ipython3",
   "version": "3.11.3"
  }
 },
 "nbformat": 4,
 "nbformat_minor": 5
}
