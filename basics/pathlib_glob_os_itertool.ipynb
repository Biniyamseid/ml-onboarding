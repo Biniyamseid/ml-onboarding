{
 "cells": [
  {
   "cell_type": "markdown",
   "id": "210f3b3f",
   "metadata": {},
   "source": [
    "# pathlib"
   ]
  },
  {
   "cell_type": "code",
   "execution_count": 15,
   "id": "1fddfbee",
   "metadata": {},
   "outputs": [],
   "source": [
    "from pathlib import Path\n"
   ]
  },
  {
   "cell_type": "code",
   "execution_count": 42,
   "id": "2459bb95",
   "metadata": {
    "scrolled": true
   },
   "outputs": [],
   "source": [
    "#get home directory\n",
    "home_dir = Path.home()\n"
   ]
  },
  {
   "cell_type": "markdown",
   "id": "d01fa51b",
   "metadata": {},
   "source": [
    "get the path to the current working directory"
   ]
  },
  {
   "cell_type": "code",
   "execution_count": 43,
   "id": "a908851c",
   "metadata": {},
   "outputs": [],
   "source": [
    "cwd = Path.cwd()"
   ]
  },
  {
   "cell_type": "markdown",
   "id": "e993b039",
   "metadata": {},
   "source": [
    "get the path of the current python file(does not work in jupyeter Notebooks)\n"
   ]
  },
  {
   "cell_type": "code",
   "execution_count": 11,
   "id": "8ad4e3ad",
   "metadata": {},
   "outputs": [],
   "source": [
    "# curr_file = Path(_file_)\n",
    "# current_file\n"
   ]
  },
  {
   "cell_type": "markdown",
   "id": "b8437758",
   "metadata": {},
   "source": [
    "# get the first parent folder path"
   ]
  },
  {
   "cell_type": "code",
   "execution_count": 44,
   "id": "ca07bdea",
   "metadata": {},
   "outputs": [],
   "source": [
    "one_above = Path.cwd().parent"
   ]
  },
  {
   "cell_type": "code",
   "execution_count": 20,
   "id": "41b2c627",
   "metadata": {},
   "outputs": [],
   "source": [
    "#get the Nth parent folder path\n",
    "\n",
    "# mul_above = Path.cwd().parent[0]\n",
    "#but TypeError: 'WindowsPath' object is not subscriptable"
   ]
  },
  {
   "cell_type": "code",
   "execution_count": 45,
   "id": "84d3ae48",
   "metadata": {},
   "outputs": [],
   "source": [
    "#join paths\n",
    "joined_path = cwd/'output'"
   ]
  },
  {
   "cell_type": "code",
   "execution_count": 23,
   "id": "bd78040a",
   "metadata": {},
   "outputs": [],
   "source": [
    "#create a folder if it does not exist\n",
    "joined_path.mkdir(exist_ok=True)\n",
    "#exist_ok : to ignore 'FileExistsError' if the target directory already exist\n"
   ]
  },
  {
   "cell_type": "code",
   "execution_count": 25,
   "id": "bd27b32b",
   "metadata": {},
   "outputs": [
    {
     "data": {
      "text/plain": [
       "True"
      ]
     },
     "execution_count": 25,
     "metadata": {},
     "output_type": "execute_result"
    }
   ],
   "source": [
    "#check if the path is a folder\n",
    "joined_path.is_dir()"
   ]
  },
  {
   "cell_type": "code",
   "execution_count": 26,
   "id": "efd43e98",
   "metadata": {},
   "outputs": [
    {
     "data": {
      "text/plain": [
       "False"
      ]
     },
     "execution_count": 26,
     "metadata": {},
     "output_type": "execute_result"
    }
   ],
   "source": [
    "#check if the path is  a file\n",
    "joined_path.is_file()"
   ]
  },
  {
   "cell_type": "code",
   "execution_count": 27,
   "id": "69140cfe",
   "metadata": {},
   "outputs": [
    {
     "data": {
      "text/plain": [
       "False"
      ]
     },
     "execution_count": 27,
     "metadata": {},
     "output_type": "execute_result"
    }
   ],
   "source": [
    "example_file = cwd /'somefile.txt'\n",
    "example_file.is_file()"
   ]
  },
  {
   "cell_type": "code",
   "execution_count": 29,
   "id": "fb788fcb",
   "metadata": {},
   "outputs": [
    {
     "data": {
      "text/plain": [
       "'somefile.txt'"
      ]
     },
     "execution_count": 29,
     "metadata": {},
     "output_type": "execute_result"
    }
   ],
   "source": [
    "#get the file name\n",
    "file_name = example_file.name\n",
    "file_name"
   ]
  },
  {
   "cell_type": "code",
   "execution_count": 34,
   "id": "fb30ff9e",
   "metadata": {},
   "outputs": [
    {
     "data": {
      "text/plain": [
       "'somefile'"
      ]
     },
     "execution_count": 34,
     "metadata": {},
     "output_type": "execute_result"
    }
   ],
   "source": [
    "# get the file with out extension\n",
    "file_name = example_file.stem\n",
    "file_name"
   ]
  },
  {
   "cell_type": "code",
   "execution_count": 35,
   "id": "2364f04c",
   "metadata": {},
   "outputs": [
    {
     "data": {
      "text/plain": [
       "'.txt'"
      ]
     },
     "execution_count": 35,
     "metadata": {},
     "output_type": "execute_result"
    }
   ],
   "source": [
    "#get the file extension\n",
    "file_suffix = example_file.suffix\n",
    "file_suffix"
   ]
  },
  {
   "cell_type": "code",
   "execution_count": 47,
   "id": "fcc87a5c",
   "metadata": {},
   "outputs": [],
   "source": [
    "# iterate over the files in a directory\n",
    "target_dir = cwd\n",
    "for file in target_dir.iterdir():\n",
    "      pass\n",
    "#     print(file)"
   ]
  },
  {
   "cell_type": "code",
   "execution_count": 49,
   "id": "3b42f25d",
   "metadata": {},
   "outputs": [],
   "source": [
    "#iterate overthe files in a directory combined with suffix\n",
    "for file in target_dir.iterdir():\n",
    "    if file.suffix == '.ipynb':\n",
    "        pass\n",
    "#         print(file)"
   ]
  },
  {
   "cell_type": "code",
   "execution_count": 50,
   "id": "41d6de48",
   "metadata": {},
   "outputs": [],
   "source": [
    "#iterate over files in a directory including sub folders\n",
    "for file in target_dir.rglob(\"*\"):\n",
    "    pass\n",
    "#     print(file)\n",
    "    "
   ]
  },
  {
   "cell_type": "markdown",
   "id": "6d65fc55",
   "metadata": {},
   "source": [
    "# glob"
   ]
  },
  {
   "cell_type": "code",
   "execution_count": 51,
   "id": "8b3500fd",
   "metadata": {},
   "outputs": [],
   "source": [
    "#we can use os lib to list directories but we cannot use wild card in os so we have to use glob lib inorder to use wild card.\n",
    "import os\n",
    "# os.listdir('/users')"
   ]
  },
  {
   "cell_type": "markdown",
   "id": "0cc6c186",
   "metadata": {},
   "source": [
    "\n",
    "The glob module in Python is used to find files that match a specific pattern. It is a built-in module, so you do not need to install it separately.\n",
    "\n",
    "The glob module uses wildcard characters to match files. The most common wildcard characters are:\n",
    "\n",
    "* - Matches zero or more characters.\n",
    "? - Matches exactly one character.\n",
    "[] - Matches a single character from the specified range. For example, \n",
    "[0-9] matches any single digit character."
   ]
  },
  {
   "cell_type": "code",
   "execution_count": 52,
   "id": "9f256e74",
   "metadata": {},
   "outputs": [],
   "source": [
    "#and here we are not using regular expression, we are using filename globbing\n",
    "import glob\n",
    "# glob.glob('/users/*')"
   ]
  },
  {
   "cell_type": "code",
   "execution_count": 47,
   "id": "c084bea7",
   "metadata": {},
   "outputs": [
    {
     "data": {
      "text/plain": [
       "['/users\\\\postgres', '/users\\\\Public']"
      ]
     },
     "execution_count": 47,
     "metadata": {},
     "output_type": "execute_result"
    }
   ],
   "source": [
    "# glob.glob('/users/p?*')"
   ]
  },
  {
   "cell_type": "code",
   "execution_count": 53,
   "id": "db472f50",
   "metadata": {},
   "outputs": [
    {
     "data": {
      "text/plain": [
       "['/users\\\\All Users',\n",
       " '/users\\\\biniy',\n",
       " '/users\\\\Default',\n",
       " '/users\\\\Default User',\n",
       " '/users\\\\desktop.ini']"
      ]
     },
     "execution_count": 53,
     "metadata": {},
     "output_type": "execute_result"
    }
   ],
   "source": [
    "# glob.glob('/users/[abd]*')"
   ]
  },
  {
   "cell_type": "code",
   "execution_count": 57,
   "id": "b5206e95",
   "metadata": {},
   "outputs": [
    {
     "data": {
      "text/plain": [
       "['/users/biniy/desktop\\\\bini tamplate.py.txt']"
      ]
     },
     "execution_count": 57,
     "metadata": {},
     "output_type": "execute_result"
    }
   ],
   "source": [
    "# glob.glob('/users/biniy/desktop/*.txt')"
   ]
  },
  {
   "cell_type": "code",
   "execution_count": 66,
   "id": "c2f6672c",
   "metadata": {},
   "outputs": [
    {
     "name": "stdout",
     "output_type": "stream",
     "text": [
      "1:/users\\All Users\n",
      "2:/users\\biniy\n",
      "3:/users\\Default\n",
      "4:/users\\Default User\n",
      "5:/users\\desktop.ini\n",
      "6:/users\\postgres\n",
      "7:/users\\Public\n"
     ]
    }
   ],
   "source": [
    "#to get the generator , use glob.iglob\n",
    "# iglob is iterator glob and it is used to store files in memory efficient way\n",
    "globs = glob.iglob('/users/*')\n",
    "# print(globs.__next__())\n",
    "# print(globs.__next__())\n",
    "# print(globs.__next__())\n",
    "# print(globs.__next__())\n",
    "# print(globs.__next__())\n",
    "\n",
    "#or if you want to print all of them using for loop\n",
    "# for i,file in enumerate(globs,1):\n",
    "#     print(i,file,sep=':')\n",
    "\n",
    "\n",
    "\n",
    "\n"
   ]
  },
  {
   "cell_type": "code",
   "execution_count": 10,
   "id": "b42f6df8",
   "metadata": {},
   "outputs": [
    {
     "name": "stdout",
     "output_type": "stream",
     "text": [
      "/users/biniy/desktop/AI\n"
     ]
    }
   ],
   "source": [
    "#print file from a generator\n",
    "for one_filename in glob.iglob('/users/biniy/desktop/AI'):\n",
    "#     print(one_filename)"
   ]
  },
  {
   "cell_type": "code",
   "execution_count": 16,
   "id": "96cb70ee",
   "metadata": {},
   "outputs": [
    {
     "name": "stdout",
     "output_type": "stream",
     "text": [
      "['dummy\\\\apple.js']\n"
     ]
    }
   ],
   "source": [
    "import glob\n",
    "print(glob.glob(\"*/?????.js\"))"
   ]
  },
  {
   "cell_type": "code",
   "execution_count": 25,
   "id": "90a90193",
   "metadata": {},
   "outputs": [
    {
     "name": "stdout",
     "output_type": "stream",
     "text": [
      "['dummy\\\\banana.js', 'python\\\\newfile.txt', 'python\\\\python.ipynb']\n"
     ]
    }
   ],
   "source": [
    "#square braket allow us to insert specified characters.\n",
    "print(glob.glob('*/[!asf]*'))"
   ]
  },
  {
   "cell_type": "code",
   "execution_count": 19,
   "id": "00723b75",
   "metadata": {},
   "outputs": [
    {
     "name": "stdout",
     "output_type": "stream",
     "text": [
      "['dummy\\\\banana.js', 'python\\\\file.txt', 'python\\\\newfile.txt', 'python\\\\python.ipynb']\n"
     ]
    }
   ],
   "source": [
    "#[!] doesn't match any thing in the square bracket\n",
    "print(glob.glob('*/[!ad]*'))"
   ]
  },
  {
   "cell_type": "code",
   "execution_count": 27,
   "id": "d2c65c85",
   "metadata": {},
   "outputs": [
    {
     "name": "stdout",
     "output_type": "stream",
     "text": [
      "['dummy', 'numpy.ipynb', 'output', 'pathlib_glob_os_itertool.ipynb', 'python']\n"
     ]
    }
   ],
   "source": [
    "print(glob.glob('*'))"
   ]
  },
  {
   "cell_type": "code",
   "execution_count": 29,
   "id": "64a796c7",
   "metadata": {},
   "outputs": [
    {
     "name": "stdout",
     "output_type": "stream",
     "text": [
      "C:\\Users\\biniy\n"
     ]
    }
   ],
   "source": [
    "print(Path.home())"
   ]
  },
  {
   "cell_type": "code",
   "execution_count": 41,
   "id": "06a9cf15",
   "metadata": {},
   "outputs": [
    {
     "name": "stdout",
     "output_type": "stream",
     "text": [
      "[]\n"
     ]
    }
   ],
   "source": [
    "print(glob.glob('**/*.py',root_dir='\\Users\\biniy',recursive= True,include_hidden=True))"
   ]
  },
  {
   "cell_type": "markdown",
   "id": "75727b47",
   "metadata": {},
   "source": [
    "##### glob.escape in Python's glob library is used to automatically escape special characters in a string, ensuring they are treated as literal characters for pattern matching. It helps when matching filenames or paths containing characters like *, ?, [...], or {...}."
   ]
  },
  {
   "cell_type": "code",
   "execution_count": 76,
   "id": "b1d195bc",
   "metadata": {},
   "outputs": [
    {
     "name": "stdout",
     "output_type": "stream",
     "text": [
      "C:/Documents/[?].txt\n",
      "[]\n"
     ]
    }
   ],
   "source": [
    "import glob\n",
    "\n",
    "path = \"C:/Documents/?.txt\"\n",
    "escaped_path = glob.escape(path)\n",
    "print(escaped_path)  # Output: C:/Documents/\\?.txt\n",
    "\n",
    "files = glob.glob(escaped_path)\n",
    "print(files)  # Output: ['C:/Documents/?.txt']"
   ]
  },
  {
   "cell_type": "markdown",
   "id": "c94c5e49",
   "metadata": {},
   "source": [
    "## OS module\n",
    "\n"
   ]
  },
  {
   "cell_type": "code",
   "execution_count": 2,
   "id": "79c5fe12",
   "metadata": {},
   "outputs": [],
   "source": [
    "import os\n"
   ]
  },
  {
   "cell_type": "code",
   "execution_count": 9,
   "id": "36bfc8bf",
   "metadata": {},
   "outputs": [],
   "source": [
    "#get current working directory\n",
    "# print(os.getcwd())\n",
    "#get help about the library\n",
    "# help(os)"
   ]
  },
  {
   "cell_type": "code",
   "execution_count": 11,
   "id": "86cb07f9",
   "metadata": {},
   "outputs": [
    {
     "name": "stdout",
     "output_type": "stream",
     "text": [
      "C:\\Users\\biniy\\Documents\\a2sv\\ML track2\\basics\n"
     ]
    }
   ],
   "source": [
    "print(os.getcwd())"
   ]
  },
  {
   "cell_type": "code",
   "execution_count": 27,
   "id": "23b2f190",
   "metadata": {},
   "outputs": [
    {
     "name": "stdout",
     "output_type": "stream",
     "text": [
      "dummy\\ananas.js\n",
      "dummy\\apple.js\n",
      "dummy\\banana.js\n",
      "python\\file.txt\n",
      "python\\newfile.txt\n",
      "python\\python.ipynb\n"
     ]
    }
   ],
   "source": [
    "# lets get list of files in our working directory\n",
    "##for file in glob.iglob(\"*/*\"):\n",
    "    print(file)"
   ]
  },
  {
   "cell_type": "code",
   "execution_count": 41,
   "id": "d7379b45",
   "metadata": {},
   "outputs": [
    {
     "ename": "FileExistsError",
     "evalue": "[WinError 183] Cannot create a file when that file already exists: 'c:newdir'",
     "output_type": "error",
     "traceback": [
      "\u001b[1;31m---------------------------------------\u001b[0m",
      "\u001b[1;31mFileExistsError\u001b[0mTraceback (most recent call last)",
      "Cell \u001b[1;32mIn[41], line 2\u001b[0m\n\u001b[0;32m      1\u001b[0m \u001b[38;5;66;03m#create a phsical directory\u001b[39;00m\n\u001b[1;32m----> 2\u001b[0m \u001b[43mos\u001b[49m\u001b[38;5;241;43m.\u001b[39;49m\u001b[43mmkdir\u001b[49m\u001b[43m(\u001b[49m\u001b[38;5;124;43m\"\u001b[39;49m\u001b[38;5;124;43mc:newdir\u001b[39;49m\u001b[38;5;124;43m\"\u001b[39;49m\u001b[43m)\u001b[49m \u001b[38;5;66;03m#this creates newdir directory in the current files root directory\u001b[39;00m\n\u001b[0;32m      3\u001b[0m os\u001b[38;5;241m.\u001b[39mmkdir(\u001b[38;5;124m\"\u001b[39m\u001b[38;5;124mhello\u001b[39m\u001b[38;5;124m\"\u001b[39m) \u001b[38;5;66;03m#same to the above,its  name is hello\u001b[39;00m\n\u001b[0;32m      4\u001b[0m \u001b[38;5;66;03m#there is no difference at all even it ignores c: at the first example\u001b[39;00m\n",
      "\u001b[1;31mFileExistsError\u001b[0m: [WinError 183] Cannot create a file when that file already exists: 'c:newdir'"
     ]
    }
   ],
   "source": [
    "#create a phsical directory\n",
    "\n",
    "os.mkdir(\"c:newdir\") #this creates newdir directory in the current files root directory\n",
    "os.mkdir(\"hello\") #same to the above,its  name is hello\n",
    "#there is no difference at all even it ignores c: at the first example"
   ]
  },
  {
   "cell_type": "code",
   "execution_count": 34,
   "id": "3d9502ce",
   "metadata": {},
   "outputs": [
    {
     "name": "stdout",
     "output_type": "stream",
     "text": [
      "/$MfeDeepRem\n",
      "/$Recycle.Bin\n",
      "/$SysReset\n",
      "/$WinREAgent\n",
      "/adobeTemp\n",
      "/Documents and Settings\n",
      "/DumpStack.log\n",
      "/DumpStack.log.tmp\n",
      "/edb\n",
      "/hiberfil.sys\n",
      "/hp\n",
      "/Intel\n",
      "/msys64\n",
      "/OneDriveTemp\n",
      "/pagefile.sys\n",
      "/PerfLogs\n",
      "/Program Files\n",
      "/Program Files (x86)\n",
      "/ProgramData\n",
      "/Recovery\n",
      "/swapfile.sys\n",
      "/System Volume Information\n",
      "/System.sav\n",
      "/tools\n",
      "/Users\n",
      "/Windows\n",
      "/XboxGames\n"
     ]
    }
   ],
   "source": [
    "globs = glob.iglob('/*')\n",
    "for path in globs:\n",
    "    print(path)"
   ]
  },
  {
   "cell_type": "code",
   "execution_count": 58,
   "id": "c272ccf4",
   "metadata": {},
   "outputs": [
    {
     "data": {
      "text/plain": [
       "'C:\\\\Users\\\\biniy\\\\Documents\\\\a2sv\\\\ML track2\\\\basics'"
      ]
     },
     "execution_count": 58,
     "metadata": {},
     "output_type": "execute_result"
    }
   ],
   "source": [
    "#change working directory\n",
    "os.chdir(\"C:\\\\Users\\\\biniy\\\\Documents\\\\a2sv\\\\ML track2\\\\basics\")\n",
    "os.getcwd()"
   ]
  },
  {
   "cell_type": "markdown",
   "id": "4c0d6780",
   "metadata": {},
   "source": [
    "In Python, backslashes () are escape characters that are used to indicate special characters or sequences. Therefore, when you write a path using backslashes directly in a string, Python interprets certain characters following the backslash as escape sequences.\n",
    "\n",
    "To fix the issue and make the path work correctly, you have a few options:\n",
    "\n",
    "1. Use double backslashes (\\) instead of single backslashes () in your path:\n",
    "\n",
    "2. Use a raw string by prefixing the path string with r. This tells Python to treat the string as a raw string and not interpret any escape sequences:\n",
    "\n",
    "2. os.chdir(r\"c:\\.....\")\n",
    "\n",
    "3. Replace each backslash () in the path with a forward slash (/). Python allows using forward slashes as path separators even on Windows:\n",
    "\n",
    "os.chdir(\"C:/...\")"
   ]
  },
  {
   "cell_type": "code",
   "execution_count": 59,
   "id": "4044cddb",
   "metadata": {},
   "outputs": [],
   "source": [
    "#change current working directory to parent\n",
    "os.chdir(\"..\")"
   ]
  },
  {
   "cell_type": "code",
   "execution_count": 69,
   "id": "77ecc8c5",
   "metadata": {},
   "outputs": [],
   "source": [
    "# os.getcwd()"
   ]
  },
  {
   "cell_type": "code",
   "execution_count": 62,
   "id": "2bd02edb",
   "metadata": {},
   "outputs": [],
   "source": []
  },
  {
   "cell_type": "code",
   "execution_count": 68,
   "id": "5b2e844e",
   "metadata": {},
   "outputs": [],
   "source": [
    "# os.getcwd()"
   ]
  },
  {
   "cell_type": "code",
   "execution_count": 67,
   "id": "aa797856",
   "metadata": {},
   "outputs": [],
   "source": [
    "#remove a directory\n",
    "os.rmdir(\"path\")"
   ]
  },
  {
   "cell_type": "code",
   "execution_count": 79,
   "id": "1f2811fa",
   "metadata": {},
   "outputs": [],
   "source": [
    "#list files and subdirectories\n",
    "# print(os.listdir(\"/users/biniy/\"))"
   ]
  },
  {
   "cell_type": "code",
   "execution_count": 80,
   "id": "aa134be4",
   "metadata": {},
   "outputs": [
    {
     "name": "stdout",
     "output_type": "stream",
     "text": [
      "['.ipynb_checkpoints', 'dummy', 'numpy.ipynb', 'output', 'pathlib_glob_os_itertool.ipynb', 'python']\n"
     ]
    }
   ],
   "source": [
    "print(os.listdir())\n",
    "# print directories of current working directory"
   ]
  },
  {
   "cell_type": "code",
   "execution_count": 83,
   "id": "8d801f3d",
   "metadata": {},
   "outputs": [],
   "source": [
    "#additional \n",
    "#get cpu count\n",
    "import os\n",
    "print(os.cpu_count())"
   ]
  },
  {
   "cell_type": "markdown",
   "id": "fbe288e8",
   "metadata": {},
   "source": [
    "# Itertools"
   ]
  },
  {
   "cell_type": "code",
   "execution_count": 94,
   "id": "985951d1",
   "metadata": {},
   "outputs": [],
   "source": [
    "import itertools"
   ]
  },
  {
   "cell_type": "code",
   "execution_count": 86,
   "id": "e4279f93",
   "metadata": {},
   "outputs": [
    {
     "name": "stdout",
     "output_type": "stream",
     "text": [
      "[('A', 'B'), ('A', 'C'), ('B', 'C')]\n"
     ]
    }
   ],
   "source": [
    "#generating combinations\n",
    "items = ['A','B','C']\n",
    "combinations = list(itertools.combinations(items,r=2))\n",
    "print(combinations)"
   ]
  },
  {
   "cell_type": "code",
   "execution_count": 91,
   "id": "109d2145",
   "metadata": {},
   "outputs": [],
   "source": [
    "#permutations\n",
    "permutations = list(itertools.permutations(items))\n"
   ]
  },
  {
   "cell_type": "code",
   "execution_count": 92,
   "id": "d705791a",
   "metadata": {},
   "outputs": [
    {
     "name": "stdout",
     "output_type": "stream",
     "text": [
      "[('A', 'B', 'C'), ('A', 'C', 'B'), ('B', 'A', 'C'), ('B', 'C', 'A'), ('C', 'A', 'B'), ('C', 'B', 'A')]\n"
     ]
    }
   ],
   "source": [
    "print(permutations)"
   ]
  },
  {
   "cell_type": "code",
   "execution_count": 100,
   "id": "085aa486",
   "metadata": {},
   "outputs": [
    {
     "name": "stdout",
     "output_type": "stream",
     "text": [
      "[1, 3, 6, 10, 15]\n"
     ]
    }
   ],
   "source": [
    "#calculate running totals or perfixsums\n",
    "numbers = [1,2,3,4,5]\n",
    "totals = itertools.accumulate(numbers)\n",
    "print(list(totals))"
   ]
  },
  {
   "cell_type": "code",
   "execution_count": null,
   "id": "bc0a7e6d",
   "metadata": {},
   "outputs": [],
   "source": []
  }
 ],
 "metadata": {
  "kernelspec": {
   "display_name": "Python 3 (ipykernel)",
   "language": "python",
   "name": "python3"
  },
  "language_info": {
   "codemirror_mode": {
    "name": "ipython",
    "version": 3
   },
   "file_extension": ".py",
   "mimetype": "text/x-python",
   "name": "python",
   "nbconvert_exporter": "python",
   "pygments_lexer": "ipython3",
   "version": "3.11.3"
  }
 },
 "nbformat": 4,
 "nbformat_minor": 5
}
