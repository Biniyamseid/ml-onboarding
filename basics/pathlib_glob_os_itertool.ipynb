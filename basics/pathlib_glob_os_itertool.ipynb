{
 "cells": [
  {
   "cell_type": "markdown",
   "id": "6b697121",
   "metadata": {},
   "source": [
    "# pathlib"
   ]
  },
  {
   "cell_type": "code",
   "execution_count": 2,
   "id": "12b0a7c1",
   "metadata": {},
   "outputs": [],
   "source": [
    "from pathlib import Path\n"
   ]
  },
  {
   "cell_type": "code",
   "execution_count": 5,
   "id": "aaa1ce67",
   "metadata": {
    "scrolled": true
   },
   "outputs": [
    {
     "name": "stdout",
     "output_type": "stream",
     "text": [
      "C:\\Users\\biniy\n"
     ]
    }
   ],
   "source": [
    "#get home directory\n",
    "home_dir = Path.home()\n",
    "print(home_dir)"
   ]
  },
  {
   "cell_type": "markdown",
   "id": "f22823f7",
   "metadata": {},
   "source": [
    "get the path to the current working directory"
   ]
  },
  {
   "cell_type": "code",
   "execution_count": 8,
   "id": "8d2ce269",
   "metadata": {},
   "outputs": [
    {
     "data": {
      "text/plain": [
       "WindowsPath('C:/Users/biniy/Documents/a2sv/ML track2/basics')"
      ]
     },
     "execution_count": 8,
     "metadata": {},
     "output_type": "execute_result"
    }
   ],
   "source": [
    "cwd = Path.cwd()\n",
    "cwd"
   ]
  },
  {
   "cell_type": "markdown",
   "id": "40712a5c",
   "metadata": {},
   "source": [
    "get the path of the current python file(does not work in jupyeter Notebooks)\n"
   ]
  },
  {
   "cell_type": "code",
   "execution_count": 11,
   "id": "dbb965c7",
   "metadata": {},
   "outputs": [],
   "source": [
    "# curr_file = Path(_file_)\n",
    "# current_file\n"
   ]
  },
  {
   "cell_type": "markdown",
   "id": "17c3b385",
   "metadata": {},
   "source": [
    "# get the first parent folder path"
   ]
  },
  {
   "cell_type": "code",
   "execution_count": 18,
   "id": "824b7e22",
   "metadata": {},
   "outputs": [
    {
     "data": {
      "text/plain": [
       "WindowsPath('C:/Users/biniy/Documents/a2sv/ML track2')"
      ]
     },
     "execution_count": 18,
     "metadata": {},
     "output_type": "execute_result"
    }
   ],
   "source": [
    "one_above = Path.cwd().parent\n",
    "one_above"
   ]
  },
  {
   "cell_type": "code",
   "execution_count": 20,
   "id": "e336f9d2",
   "metadata": {},
   "outputs": [],
   "source": [
    "#get the Nth parent folder path\n",
    "\n",
    "# mul_above = Path.cwd().parent[0]\n",
    "#but TypeError: 'WindowsPath' object is not subscriptable"
   ]
  },
  {
   "cell_type": "code",
   "execution_count": 22,
   "id": "17f955bf",
   "metadata": {},
   "outputs": [
    {
     "data": {
      "text/plain": [
       "WindowsPath('C:/Users/biniy/Documents/a2sv/ML track2/basics/output')"
      ]
     },
     "execution_count": 22,
     "metadata": {},
     "output_type": "execute_result"
    }
   ],
   "source": [
    "#join paths\n",
    "joined_path = cwd/'output'\n",
    "joined_path"
   ]
  },
  {
   "cell_type": "code",
   "execution_count": 23,
   "id": "80f2ca33",
   "metadata": {},
   "outputs": [],
   "source": [
    "#create a folder if it does not exist\n",
    "joined_path.mkdir(exist_ok=True)\n",
    "#exist_ok : to ignore 'FileExistsError' if the target directory already exist\n"
   ]
  },
  {
   "cell_type": "code",
   "execution_count": 25,
   "id": "dcccd818",
   "metadata": {},
   "outputs": [
    {
     "data": {
      "text/plain": [
       "True"
      ]
     },
     "execution_count": 25,
     "metadata": {},
     "output_type": "execute_result"
    }
   ],
   "source": [
    "#check if the path is a folder\n",
    "joined_path.is_dir()"
   ]
  },
  {
   "cell_type": "code",
   "execution_count": 26,
   "id": "ebb073c3",
   "metadata": {},
   "outputs": [
    {
     "data": {
      "text/plain": [
       "False"
      ]
     },
     "execution_count": 26,
     "metadata": {},
     "output_type": "execute_result"
    }
   ],
   "source": [
    "#check if the path is  a file\n",
    "joined_path.is_file()"
   ]
  },
  {
   "cell_type": "code",
   "execution_count": 27,
   "id": "39e4a8ef",
   "metadata": {},
   "outputs": [
    {
     "data": {
      "text/plain": [
       "False"
      ]
     },
     "execution_count": 27,
     "metadata": {},
     "output_type": "execute_result"
    }
   ],
   "source": [
    "example_file = cwd /'somefile.txt'\n",
    "example_file.is_file()"
   ]
  },
  {
   "cell_type": "code",
   "execution_count": 29,
   "id": "fde61994",
   "metadata": {},
   "outputs": [
    {
     "data": {
      "text/plain": [
       "'somefile.txt'"
      ]
     },
     "execution_count": 29,
     "metadata": {},
     "output_type": "execute_result"
    }
   ],
   "source": [
    "#get the file name\n",
    "file_name = example_file.name\n",
    "file_name"
   ]
  },
  {
   "cell_type": "code",
   "execution_count": 34,
   "id": "3b24093f",
   "metadata": {},
   "outputs": [
    {
     "data": {
      "text/plain": [
       "'somefile'"
      ]
     },
     "execution_count": 34,
     "metadata": {},
     "output_type": "execute_result"
    }
   ],
   "source": [
    "# get the file with out extension\n",
    "file_name = example_file.stem\n",
    "file_name"
   ]
  },
  {
   "cell_type": "code",
   "execution_count": 35,
   "id": "18c73d0c",
   "metadata": {},
   "outputs": [
    {
     "data": {
      "text/plain": [
       "'.txt'"
      ]
     },
     "execution_count": 35,
     "metadata": {},
     "output_type": "execute_result"
    }
   ],
   "source": [
    "#get the file extension\n",
    "file_suffix = example_file.suffix\n",
    "file_suffix"
   ]
  },
  {
   "cell_type": "code",
   "execution_count": 36,
   "id": "96ae71ab",
   "metadata": {},
   "outputs": [
    {
     "name": "stdout",
     "output_type": "stream",
     "text": [
      "C:\\Users\\biniy\\Documents\\a2sv\\ML track2\\basics\\.ipynb_checkpoints\n",
      "C:\\Users\\biniy\\Documents\\a2sv\\ML track2\\basics\\numpy.ipynb\n",
      "C:\\Users\\biniy\\Documents\\a2sv\\ML track2\\basics\\output\n",
      "C:\\Users\\biniy\\Documents\\a2sv\\ML track2\\basics\\pathlib_glob_os_itertool.ipynb\n",
      "C:\\Users\\biniy\\Documents\\a2sv\\ML track2\\basics\\python\n"
     ]
    }
   ],
   "source": [
    "# iterate over the files in a directory\n",
    "target_dir = cwd\n",
    "for file in target_dir.iterdir():\n",
    "    print(file)"
   ]
  },
  {
   "cell_type": "code",
   "execution_count": 38,
   "id": "34097d82",
   "metadata": {},
   "outputs": [
    {
     "name": "stdout",
     "output_type": "stream",
     "text": [
      "C:\\Users\\biniy\\Documents\\a2sv\\ML track2\\basics\\numpy.ipynb\n",
      "C:\\Users\\biniy\\Documents\\a2sv\\ML track2\\basics\\pathlib_glob_os_itertool.ipynb\n"
     ]
    }
   ],
   "source": [
    "#iterate overthe files in a directory combined with suffix\n",
    "for file in target_dir.iterdir():\n",
    "    if file.suffix == '.ipynb':\n",
    "        print(file)"
   ]
  },
  {
   "cell_type": "code",
   "execution_count": 40,
   "id": "9c0fcbaa",
   "metadata": {},
   "outputs": [
    {
     "name": "stdout",
     "output_type": "stream",
     "text": [
      "C:\\Users\\biniy\\Documents\\a2sv\\ML track2\\basics\\.ipynb_checkpoints\n",
      "C:\\Users\\biniy\\Documents\\a2sv\\ML track2\\basics\\numpy.ipynb\n",
      "C:\\Users\\biniy\\Documents\\a2sv\\ML track2\\basics\\output\n",
      "C:\\Users\\biniy\\Documents\\a2sv\\ML track2\\basics\\pathlib_glob_os_itertool.ipynb\n",
      "C:\\Users\\biniy\\Documents\\a2sv\\ML track2\\basics\\python\n",
      "C:\\Users\\biniy\\Documents\\a2sv\\ML track2\\basics\\.ipynb_checkpoints\\numpy-checkpoint.ipynb\n",
      "C:\\Users\\biniy\\Documents\\a2sv\\ML track2\\basics\\.ipynb_checkpoints\\pathlib_glob_os_itertool-checkpoint.ipynb\n",
      "C:\\Users\\biniy\\Documents\\a2sv\\ML track2\\basics\\python\\.ipynb_checkpoints\n",
      "C:\\Users\\biniy\\Documents\\a2sv\\ML track2\\basics\\python\\file.txt\n",
      "C:\\Users\\biniy\\Documents\\a2sv\\ML track2\\basics\\python\\newfile.txt\n",
      "C:\\Users\\biniy\\Documents\\a2sv\\ML track2\\basics\\python\\python.ipynb\n",
      "C:\\Users\\biniy\\Documents\\a2sv\\ML track2\\basics\\python\\.ipynb_checkpoints\\python-checkpoint.ipynb\n"
     ]
    }
   ],
   "source": [
    "#iterate over files in a directory including sub folders\n",
    "for file in target_dir.rglob(\"*\"):\n",
    "    print(file)\n",
    "    "
   ]
  },
  {
   "cell_type": "code",
   "execution_count": null,
   "id": "e919542c",
   "metadata": {},
   "outputs": [],
   "source": []
  }
 ],
 "metadata": {
  "kernelspec": {
   "display_name": "Python 3 (ipykernel)",
   "language": "python",
   "name": "python3"
  },
  "language_info": {
   "codemirror_mode": {
    "name": "ipython",
    "version": 3
   },
   "file_extension": ".py",
   "mimetype": "text/x-python",
   "name": "python",
   "nbconvert_exporter": "python",
   "pygments_lexer": "ipython3",
   "version": "3.11.3"
  }
 },
 "nbformat": 4,
 "nbformat_minor": 5
}
